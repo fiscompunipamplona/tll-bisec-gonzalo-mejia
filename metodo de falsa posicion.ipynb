{
 "cells": [
  {
   "cell_type": "code",
   "execution_count": 1,
   "metadata": {},
   "outputs": [],
   "source": [
    "from pylab import plot, show, grid, xlabel, ylabel, xlim, ylim\n",
    "from numpy import exp, sin, cos, arange\n",
    "import numpy as np"
   ]
  },
  {
   "cell_type": "code",
   "execution_count": 2,
   "metadata": {},
   "outputs": [],
   "source": [
    "g = 9.8 # m/s^2\n",
    "m = 68.1 # kg\n",
    "v = 40. # m/s\n",
    "\n",
    "def fc(t, c):\n",
    "    return (g*m)/c * (1-exp(- (c/m) * t)) - v"
   ]
  },
  {
   "cell_type": "code",
   "execution_count": 3,
   "metadata": {},
   "outputs": [],
   "source": [
    "ft = []\n",
    "t = 10. # s\n",
    "for i in range(1,30):\n",
    "    ft.append(fc(t, i))"
   ]
  },
  {
   "cell_type": "code",
   "execution_count": 4,
   "metadata": {},
   "outputs": [
    {
     "data": {
      "image/png": "[encoded data removed]",
      "text/plain": [
       "<Figure size 432x288 with 1 Axes>"
      ]
     },
     "metadata": {
      "needs_background": "light"
     },
     "output_type": "display_data"
    }
   ],
   "source": [
    "plot(ft, 'o')\n",
    "xlabel(\"c\")\n",
    "ylabel(\"f(c)\")\n",
    "grid()\n",
    "show()"
   ]
  },
  {
   "cell_type": "code",
   "execution_count": 5,
   "metadata": {},
   "outputs": [
    {
     "data": {
      "image/png": "[encoded data removed]",
      "text/plain": [
       "<Figure size 432x288 with 1 Axes>"
      ]
     },
     "metadata": {
      "needs_background": "light"
     },
     "output_type": "display_data"
    }
   ],
   "source": [
    "plot(ft, 'o')\n",
    "xlabel(\"c\")\n",
    "ylabel(\"f(c)\")\n",
    "\n",
    "xlim(10,20)\n",
    "ylim(-10,10)\n",
    "\n",
    "grid()\n",
    "show()"
   ]
  },
  {
   "cell_type": "code",
   "execution_count": null,
   "metadata": {},
   "outputs": [],
   "source": [
    "# metodo de falsa posicion\n",
    "\n",
    "xa=1\n",
    "xl=20\n",
    "xr=xu-(f(xa)*(xl-xa))/(f(xl)-f(xa))\n",
    "\n",
    "contado=0\n",
    "tlr=0.01\n",
    "error=abs((xl-xa)/(xl+xa)) \n",
    "err=[]\n",
    "#while error >= tlr:\n",
    "     \n",
    "    \n",
    "    #if fc(t,xa)*fc(t,xr) < 0:\n",
    "        #xl=xr\n",
    "    #else:\n",
    "        #xa=xr\n",
    "    #xr=(xa+xl)/2  \n",
    "    \n",
    "    #error=abs((xl-xa)/(xl+xa))\n",
    "    #err.append(error)\n",
    "\n",
    "    \n",
    "\n",
    "while(error>tlr):\n",
    "  contador+=1\n",
    "  auxiliar=xr\n",
    "  xr= xa-(f(xa)*(xl-xa))/(f(xl)-f(xa))\n",
    "  if f(xl)*f(xr)<0:\n",
    "    xu=xr\n",
    "  else:\n",
    "    if f(xa)*f(xr)<0:\n",
    "        xl=xr \n",
    "    else:\n",
    "      print(\"la raiz real es: \" , xr)\n",
    "    \n",
    "    #error=abs((xl-xa)/(xl+xa))\n",
    "    #err.append(error)\n",
    "    \n",
    "\n",
    "       \n",
    "#print (\"la raiz es: \", xr)\n",
    "plot(err, 'o-')"
   ]
  },
  {
   "cell_type": "code",
   "execution_count": 8,
   "metadata": {},
   "outputs": [
    {
     "name": "stdout",
     "output_type": "stream",
     "text": [
      "ingrese el valor inferior del intervalo\n",
      "13\n",
      "ingrese el valor superior del intervalo\n",
      "16\n",
      "si hay una raiz en el intervalo\n",
      "La iteracion actual es:  1\n",
      "la raiz es:  14.864817534777254\n",
      "el error verdadero es:  0.5725060200623354\n",
      "el primer error relativo no se puede calcular\n",
      "----------------------------------------\n",
      "La iteracion actual es:  2\n",
      "la raiz es:  14.786028486994256\n",
      "el error verdadero es:  0.03943442574698417\n",
      "y su error Relativo es:  0.53286146345721\n",
      "----------------------------------------\n",
      "La iteracion actual es:  3\n",
      "la raiz es:  14.780604572334095\n",
      "el error verdadero es:  0.0027372588604647483\n",
      "y su error Relativo es:  0.0366961624175622\n",
      "----------------------------------------\n",
      "la raiz aproximada es:  14.780604572334095 y se obtuvo en  3 iteraciones\n"
     ]
    },
    {
     "data": {
      "text/plain": [
       "[<matplotlib.lines.Line2D at 0x7f458463b978>]"
      ]
     },
     "execution_count": 8,
     "metadata": {},
     "output_type": "execute_result"
    },
    {
     "data": {
      "image/png": "[encoded data removed]",
      "text/plain": [
       "<Figure size 432x288 with 1 Axes>"
      ]
     },
     "metadata": {
      "needs_background": "light"
     },
     "output_type": "display_data"
    }
   ],
   "source": [
    "# metodo de falsa posicion\n",
    "\n",
    "import math\n",
    "#se define la funcion f donde se esta utilizando un parametro que es x.\n",
    "def f(x):\n",
    "#en este apartado se estan declarando variables.\n",
    "  g=9.8\n",
    "  m=68.1\n",
    "  t=10\n",
    "  v=40\n",
    "  #esta la formula que implementa el libro.\n",
    "  resultado = ((g*m/x)*(1-math.exp(-(x/m)*t)))-v\n",
    "  return resultado\n",
    "# \n",
    "def tol(n):\n",
    "  resultado=0.5*(10**(2-n))\n",
    "  return resultado\n",
    "  \n",
    "def ErrorVerdadero(vaverd,aproxact):\n",
    "  resultado=(vaverd-aproxact)/vaverd*100\n",
    "  return abs(resultado)\n",
    "  \n",
    "def ErrorRelativo(xr,auxiliar):\n",
    "  resultado=((xr-auxiliar)/xr*100)\n",
    "  return abs(resultado)\n",
    "  \n",
    "print(\"ingrese el valor inferior del intervalo\")\n",
    "xl=float(input())\n",
    "\n",
    "print(\"ingrese el valor superior del intervalo\")\n",
    "xu=float(input())\n",
    "\n",
    "while(f(xl)* f(xu)>0):\n",
    "  print(\"no hay una raiz en el intervalo\")\n",
    "  print(\"ingrese el valor inferior del intervalo\")\n",
    "  xl=float(input())\n",
    "  print(\"ingrese el valor superior del intervalo\")\n",
    "  xu=float(input())\n",
    "print(\"si hay una raiz en el intervalo\")\n",
    "xr= xu-(f(xu)*(xl-xu))/(f(xl)-f(xu))\n",
    "vr=14.7802\n",
    "tolerancia=tol(3)\n",
    "auxiliar=0\n",
    "ErrorVerd=ErrorVerdadero(vr,xr)\n",
    "ErrorRel=ErrorRelativo(xr,auxiliar)\n",
    "contador=0\n",
    "while(ErrorRel>tolerancia):\n",
    "  contador+=1\n",
    "  auxiliar=xr\n",
    "  xr= xu-(f(xu)*(xl-xu))/(f(xl)-f(xu))\n",
    "  if f(xl)*f(xr)<0:\n",
    "    xu=xr\n",
    "  else:\n",
    "    if f(xu)*f(xr)<0:\n",
    "        xl=xr \n",
    "    else:\n",
    "      print(\"la raiz real es: \" , xr)\n",
    "  ErrorVerd=ErrorVerdadero(vr,xr)\n",
    "  print(\"La iteracion actual es: \", contador)\n",
    "  print(\"la raiz es: \", xr)\n",
    "  print(\"el error verdadero es: \", ErrorVerd)\n",
    "  if (contador>=2):\n",
    "    ErrorRel=ErrorRelativo(xr,auxiliar)\n",
    "    print(\"y su error Relativo es: \" , ErrorRel)\n",
    "    print(\"----------------------------------------\")\n",
    "  else:\n",
    "    print(\"el primer error relativo no se puede calcular\")\n",
    "    print(\"----------------------------------------\")\n",
    "print(\"la raiz aproximada es: \" , xr, \"y se obtuvo en \", contador, \"iteraciones\")\n",
    "\n",
    "plot(ErrorVerd, 'o-')\n",
    "plot(ErrorRel, 'o-')\n",
    "  "
   ]
  },
  {
   "cell_type": "code",
   "execution_count": null,
   "metadata": {},
   "outputs": [],
   "source": []
  }
 ],
 "metadata": {
  "kernelspec": {
   "display_name": "Python 3",
   "language": "python",
   "name": "python3"
  },
  "language_info": {
   "codemirror_mode": {
    "name": "ipython",
    "version": 3
   },
   "file_extension": ".py",
   "mimetype": "text/x-python",
   "name": "python",
   "nbconvert_exporter": "python",
   "pygments_lexer": "ipython3",
   "version": "3.5.2"
  }
 },
 "nbformat": 4,
 "nbformat_minor": 2
}
